{
 "cells": [
  {
   "cell_type": "markdown",
   "metadata": {},
   "source": [
    "# WeatherPy\n",
    "----\n",
    "\n",
    "#### Note\n",
    "* Instructions have been included for each segment. You do not have to follow them exactly, but they are included to help you think through the steps."
   ]
  },
  {
   "cell_type": "code",
   "execution_count": 1,
   "metadata": {
    "scrolled": true
   },
   "outputs": [],
   "source": [
    "# Dependencies and Setup\n",
    "import matplotlib.pyplot as plt\n",
    "import pandas as pd\n",
    "import numpy as np\n",
    "import requests\n",
    "import time\n",
    "from scipy.stats import linregress\n",
    "import json\n",
    "import os\n",
    "from scipy import stats\n",
    "\n",
    "# Import API key\n",
    "from api_keys import weather_api_key\n",
    "\n",
    "# Incorporated citipy to determine city based on latitude and longitude\n",
    "from citipy import citipy\n",
    "\n",
    "# Output File (CSV)\n",
    "#output_data_file = \"output_data/cities.csv\"\n",
    "output_data_file1 = \"output_data/cities1.csv\"\n",
    "\n",
    "# Range of latitudes and longitudes\n",
    "lat_range = (-90, 90)\n",
    "lng_range = (-180, 180)"
   ]
  },
  {
   "cell_type": "markdown",
   "metadata": {},
   "source": [
    "## Generate Cities List"
   ]
  },
  {
   "cell_type": "code",
   "execution_count": 2,
   "metadata": {},
   "outputs": [
    {
     "data": {
      "text/plain": [
       "649"
      ]
     },
     "execution_count": 2,
     "metadata": {},
     "output_type": "execute_result"
    }
   ],
   "source": [
    "# List for holding lat_lngs and cities\n",
    "lat_lngs = []\n",
    "cities = []\n",
    "\n",
    "# Create a set of random lat and lng combinations\n",
    "lats = np.random.uniform(lat_range[0], lat_range[1], size=1500)\n",
    "lngs = np.random.uniform(lng_range[0], lng_range[1], size=1500)\n",
    "lat_lngs = zip(lats, lngs)\n",
    "\n",
    "# Identify nearest city for each lat, lng combination\n",
    "for lat_lng in lat_lngs:\n",
    "    city = citipy.nearest_city(lat_lng[0], lat_lng[1]).city_name\n",
    "    \n",
    "    # If the city is unique, then add it to a our cities list\n",
    "    if city not in cities:\n",
    "        cities.append(city)\n",
    "\n",
    "# Print the city count to confirm sufficient count\n",
    "len(cities)"
   ]
  },
  {
   "cell_type": "markdown",
   "metadata": {},
   "source": [
    "### Perform API Calls\n",
    "* Perform a weather check on each city using a series of successive API calls.\n",
    "* Include a print log of each city as it'sbeing processed (with the city number and city name).\n"
   ]
  },
  {
   "cell_type": "code",
   "execution_count": 3,
   "metadata": {},
   "outputs": [
    {
     "name": "stdout",
     "output_type": "stream",
     "text": [
      "Beginning Data Retrieval \n",
      " -----------------------------\n",
      "Processing Record 1 of Set 1 | lakes entrance\n",
      "Processing Record 2 of Set 1 | lebu\n",
      "Processing Record 3 of Set 1 | mataura\n",
      "Processing Record 4 of Set 1 | punta arenas\n",
      "Processing Record 5 of Set 1 | moundsville\n",
      "Processing Record 6 of Set 1 | thompson\n",
      "Processing Record 7 of Set 1 | chuy\n",
      "Processing Record 8 of Set 1 | kapaa\n",
      "Processing Record 9 of Set 1 | new norfolk\n",
      "Processing Record 10 of Set 1 | illoqqortoormiut\n",
      "City not found. Skipping...\n",
      "Processing Record 11 of Set 1 | airai\n",
      "Processing Record 12 of Set 1 | severo-kurilsk\n",
      "Processing Record 13 of Set 1 | zaysan\n",
      "Processing Record 14 of Set 1 | vaini\n",
      "Processing Record 15 of Set 1 | flin flon\n",
      "Processing Record 16 of Set 1 | norman wells\n",
      "Processing Record 17 of Set 1 | nome\n",
      "Processing Record 18 of Set 1 | iqaluit\n",
      "Processing Record 19 of Set 1 | ossora\n",
      "Processing Record 20 of Set 1 | nanortalik\n",
      "Processing Record 21 of Set 1 | saleaula\n",
      "City not found. Skipping...\n",
      "Processing Record 22 of Set 1 | alta floresta\n",
      "Processing Record 23 of Set 1 | bluff\n",
      "Processing Record 24 of Set 1 | georgetown\n",
      "Processing Record 25 of Set 1 | ushuaia\n",
      "Processing Record 26 of Set 1 | qaanaaq\n",
      "Processing Record 27 of Set 1 | hobart\n",
      "Processing Record 28 of Set 1 | virginia beach\n",
      "Processing Record 29 of Set 1 | bethel\n",
      "Processing Record 30 of Set 1 | yellowknife\n",
      "Processing Record 31 of Set 1 | bambanglipuro\n",
      "Processing Record 32 of Set 1 | ribeira grande\n",
      "Processing Record 33 of Set 1 | chaihe\n",
      "Processing Record 34 of Set 1 | yirol\n",
      "City not found. Skipping...\n",
      "Processing Record 35 of Set 1 | vestmannaeyjar\n",
      "Processing Record 36 of Set 1 | east london\n",
      "Processing Record 37 of Set 1 | port elizabeth\n",
      "Processing Record 38 of Set 1 | guerrero negro\n",
      "Processing Record 39 of Set 1 | tecoanapa\n",
      "Processing Record 40 of Set 1 | eyl\n",
      "Processing Record 41 of Set 1 | mahanoro\n",
      "Processing Record 42 of Set 1 | barrow\n",
      "Processing Record 43 of Set 1 | maromitsa\n",
      "Processing Record 44 of Set 1 | cabo san lucas\n",
      "Processing Record 45 of Set 1 | ostrovnoy\n",
      "Processing Record 46 of Set 1 | torbay\n",
      "Processing Record 47 of Set 1 | high rock\n",
      "Processing Record 48 of Set 1 | great falls\n",
      "Processing Record 49 of Set 1 | muros\n",
      "Processing Record 0 of Set 2 | alofi\n",
      "Processing Record 1 of Set 2 | longyearbyen\n",
      "Processing Record 2 of Set 2 | barentsburg\n",
      "City not found. Skipping...\n",
      "Processing Record 3 of Set 2 | narsaq\n",
      "Processing Record 4 of Set 2 | castro\n",
      "Processing Record 5 of Set 2 | tumannyy\n",
      "City not found. Skipping...\n",
      "Processing Record 6 of Set 2 | port hardy\n",
      "Processing Record 7 of Set 2 | catamarca\n",
      "Processing Record 8 of Set 2 | hermanus\n",
      "Processing Record 9 of Set 2 | tiksi\n",
      "Processing Record 10 of Set 2 | dikson\n",
      "Processing Record 11 of Set 2 | kruisfontein\n",
      "Processing Record 12 of Set 2 | naze\n",
      "Processing Record 13 of Set 2 | poum\n",
      "Processing Record 14 of Set 2 | jarvenpaa\n",
      "Processing Record 15 of Set 2 | ponta do sol\n",
      "Processing Record 16 of Set 2 | ippy\n",
      "Processing Record 17 of Set 2 | qandala\n",
      "Processing Record 18 of Set 2 | marcona\n",
      "City not found. Skipping...\n",
      "Processing Record 19 of Set 2 | methoni\n",
      "Processing Record 20 of Set 2 | atuona\n",
      "Processing Record 21 of Set 2 | mount gambier\n",
      "Processing Record 22 of Set 2 | cidreira\n",
      "Processing Record 23 of Set 2 | mandalgovi\n",
      "Processing Record 24 of Set 2 | tual\n",
      "Processing Record 25 of Set 2 | grootfontein\n",
      "Processing Record 26 of Set 2 | kadykchan\n",
      "City not found. Skipping...\n",
      "Processing Record 27 of Set 2 | kirs\n",
      "Processing Record 28 of Set 2 | kavieng\n",
      "Processing Record 29 of Set 2 | vardo\n",
      "Processing Record 30 of Set 2 | rikitea\n",
      "Processing Record 31 of Set 2 | jamestown\n",
      "Processing Record 32 of Set 2 | tuktoyaktuk\n",
      "Processing Record 33 of Set 2 | aklavik\n",
      "Processing Record 34 of Set 2 | albany\n",
      "Processing Record 35 of Set 2 | faanui\n",
      "Processing Record 36 of Set 2 | saint-joseph\n",
      "Processing Record 37 of Set 2 | eucaliptus\n",
      "Processing Record 38 of Set 2 | dumbea\n",
      "Processing Record 39 of Set 2 | okotoks\n",
      "Processing Record 40 of Set 2 | asfi\n",
      "Processing Record 41 of Set 2 | hasaki\n",
      "Processing Record 42 of Set 2 | vila\n",
      "Processing Record 43 of Set 2 | dingle\n",
      "Processing Record 44 of Set 2 | acapulco\n",
      "Processing Record 45 of Set 2 | dafeng\n",
      "Processing Record 46 of Set 2 | hirara\n",
      "Processing Record 47 of Set 2 | puck\n",
      "Processing Record 48 of Set 2 | honningsvag\n",
      "Processing Record 49 of Set 2 | vila velha\n",
      "Processing Record 0 of Set 3 | luanda\n",
      "Processing Record 1 of Set 3 | khatanga\n",
      "Processing Record 2 of Set 3 | lagoa\n",
      "Processing Record 3 of Set 3 | yazman\n",
      "Processing Record 4 of Set 3 | shingu\n",
      "Processing Record 5 of Set 3 | clyde river\n",
      "Processing Record 6 of Set 3 | broadford\n",
      "Processing Record 7 of Set 3 | birjand\n",
      "Processing Record 8 of Set 3 | abu zabad\n",
      "Processing Record 9 of Set 3 | arraial do cabo\n",
      "Processing Record 10 of Set 3 | grand river south east\n",
      "City not found. Skipping...\n",
      "Processing Record 11 of Set 3 | sol-iletsk\n",
      "Processing Record 12 of Set 3 | san francisco del mar\n",
      "City not found. Skipping...\n",
      "Processing Record 14 of Set 3 | odzun\n",
      "Processing Record 15 of Set 3 | isangel\n",
      "Processing Record 16 of Set 3 | brandon\n",
      "Processing Record 17 of Set 3 | belz\n",
      "Processing Record 18 of Set 3 | fortuna\n",
      "Processing Record 19 of Set 3 | ongole\n",
      "Processing Record 20 of Set 3 | sawakin\n",
      "Processing Record 21 of Set 3 | maceio\n",
      "Processing Record 22 of Set 3 | san isidro\n",
      "Processing Record 23 of Set 3 | trinidad\n",
      "Processing Record 24 of Set 3 | crab hill\n",
      "City not found. Skipping...\n",
      "Processing Record 25 of Set 3 | zemio\n",
      "Processing Record 26 of Set 3 | athni\n",
      "Processing Record 27 of Set 3 | portland\n",
      "Processing Record 28 of Set 3 | hofn\n",
      "Processing Record 29 of Set 3 | sola\n",
      "Processing Record 30 of Set 3 | linares\n",
      "Processing Record 31 of Set 3 | moerai\n",
      "Processing Record 32 of Set 3 | rantepao\n",
      "Processing Record 33 of Set 3 | saint-pierre\n",
      "Processing Record 34 of Set 3 | adeje\n",
      "Processing Record 35 of Set 3 | polunochnoye\n",
      "Processing Record 36 of Set 3 | bredasdorp\n",
      "Processing Record 37 of Set 3 | flinders\n",
      "Processing Record 38 of Set 3 | senador jose porfirio\n",
      "Processing Record 39 of Set 3 | talnakh\n",
      "Processing Record 40 of Set 3 | opuwo\n",
      "Processing Record 41 of Set 3 | lorengau\n",
      "Processing Record 42 of Set 3 | constitucion\n",
      "Processing Record 43 of Set 3 | busselton\n",
      "Processing Record 44 of Set 3 | phan thiet\n",
      "Processing Record 45 of Set 3 | samusu\n",
      "City not found. Skipping...\n",
      "Processing Record 46 of Set 3 | butaritari\n",
      "Processing Record 47 of Set 3 | rocha\n",
      "Processing Record 48 of Set 3 | khormuj\n",
      "City not found. Skipping...\n",
      "Processing Record 49 of Set 3 | dubbo\n",
      "Processing Record 0 of Set 4 | tasiilaq\n",
      "Processing Record 1 of Set 4 | hay river\n",
      "Processing Record 2 of Set 4 | devarkonda\n",
      "Processing Record 3 of Set 4 | mahebourg\n",
      "Processing Record 4 of Set 4 | carutapera\n",
      "Processing Record 5 of Set 4 | hilo\n",
      "Processing Record 6 of Set 4 | avarua\n",
      "Processing Record 7 of Set 4 | mys shmidta\n",
      "City not found. Skipping...\n",
      "Processing Record 8 of Set 4 | los llanos de aridane\n",
      "Processing Record 9 of Set 4 | zhigansk\n",
      "Processing Record 10 of Set 4 | carnarvon\n",
      "Processing Record 11 of Set 4 | port alfred\n",
      "Processing Record 12 of Set 4 | mar del plata\n",
      "Processing Record 13 of Set 4 | iskateley\n",
      "Processing Record 14 of Set 4 | taolanaro\n",
      "City not found. Skipping...\n",
      "Processing Record 15 of Set 4 | morgan city\n",
      "Processing Record 16 of Set 4 | buluang\n",
      "Processing Record 17 of Set 4 | la romana\n",
      "Processing Record 18 of Set 4 | praya\n",
      "Processing Record 19 of Set 4 | byron bay\n",
      "Processing Record 20 of Set 4 | celestun\n",
      "Processing Record 21 of Set 4 | acajutla\n",
      "Processing Record 22 of Set 4 | nioki\n",
      "Processing Record 23 of Set 4 | bengkulu\n",
      "Processing Record 24 of Set 4 | khorramshahr\n",
      "Processing Record 25 of Set 4 | fort nelson\n",
      "Processing Record 26 of Set 4 | chikwawa\n",
      "Processing Record 27 of Set 4 | saint-philippe\n",
      "Processing Record 28 of Set 4 | matagami\n",
      "Processing Record 29 of Set 4 | rio rancho\n",
      "Processing Record 30 of Set 4 | diamantino\n",
      "Processing Record 31 of Set 4 | imbituba\n",
      "Processing Record 32 of Set 4 | selma\n",
      "Processing Record 33 of Set 4 | tazovskiy\n",
      "Processing Record 34 of Set 4 | nguiu\n",
      "City not found. Skipping...\n",
      "Processing Record 35 of Set 4 | orhei\n",
      "Processing Record 36 of Set 4 | laguna\n",
      "Processing Record 37 of Set 4 | geraldton\n",
      "Processing Record 38 of Set 4 | taoudenni\n",
      "Processing Record 39 of Set 4 | mudgee\n"
     ]
    },
    {
     "name": "stdout",
     "output_type": "stream",
     "text": [
      "Processing Record 40 of Set 4 | bielsk podlaski\n",
      "Processing Record 41 of Set 4 | igrim\n",
      "Processing Record 42 of Set 4 | tautira\n",
      "Processing Record 43 of Set 4 | sao miguel do tapuio\n",
      "Processing Record 44 of Set 4 | egvekinot\n",
      "Processing Record 45 of Set 4 | belushya guba\n",
      "City not found. Skipping...\n",
      "Processing Record 46 of Set 4 | jian\n",
      "Processing Record 47 of Set 4 | palabuhanratu\n",
      "City not found. Skipping...\n",
      "Processing Record 48 of Set 4 | vrangel\n",
      "Processing Record 49 of Set 4 | lesozavodsk\n",
      "Processing Record 0 of Set 5 | san andres\n",
      "Processing Record 1 of Set 5 | saryozek\n",
      "Processing Record 2 of Set 5 | urucui\n",
      "Processing Record 3 of Set 5 | greenwood\n",
      "Processing Record 4 of Set 5 | koulikoro\n",
      "Processing Record 5 of Set 5 | karratha\n",
      "Processing Record 6 of Set 5 | la paz\n",
      "Processing Record 7 of Set 5 | vidalia\n",
      "Processing Record 8 of Set 5 | mount isa\n",
      "Processing Record 9 of Set 5 | pisco\n",
      "Processing Record 10 of Set 5 | sao francisco\n",
      "Processing Record 11 of Set 5 | oswego\n",
      "Processing Record 12 of Set 5 | verkhnevilyuysk\n",
      "Processing Record 13 of Set 5 | julio de castilhos\n",
      "Processing Record 14 of Set 5 | kaitangata\n",
      "Processing Record 15 of Set 5 | jurm\n",
      "Processing Record 16 of Set 5 | balykshi\n",
      "Processing Record 17 of Set 5 | victoria\n",
      "Processing Record 18 of Set 5 | ulladulla\n",
      "Processing Record 19 of Set 5 | hobyo\n",
      "Processing Record 20 of Set 5 | lavrentiya\n",
      "Processing Record 21 of Set 5 | lumut\n",
      "Processing Record 22 of Set 5 | rongcheng\n",
      "Processing Record 23 of Set 5 | saint-francois\n",
      "Processing Record 24 of Set 5 | umzimvubu\n",
      "City not found. Skipping...\n",
      "Processing Record 25 of Set 5 | lakatoro\n",
      "Processing Record 26 of Set 5 | evinayong\n",
      "Processing Record 27 of Set 5 | namatanai\n",
      "Processing Record 28 of Set 5 | arlit\n",
      "Processing Record 29 of Set 5 | ust-kuyga\n",
      "Processing Record 30 of Set 5 | henties bay\n",
      "Processing Record 31 of Set 5 | krasnoselkup\n",
      "Processing Record 32 of Set 5 | pevek\n",
      "Processing Record 33 of Set 5 | hargeysa\n",
      "Processing Record 34 of Set 5 | pierre\n",
      "Processing Record 35 of Set 5 | kutum\n",
      "Processing Record 36 of Set 5 | boyolangu\n",
      "Processing Record 37 of Set 5 | viedma\n",
      "Processing Record 38 of Set 5 | lata\n",
      "Processing Record 39 of Set 5 | cape town\n",
      "Processing Record 40 of Set 5 | upernavik\n",
      "Processing Record 41 of Set 5 | road town\n",
      "Processing Record 42 of Set 5 | uige\n",
      "Processing Record 43 of Set 5 | puerto ayora\n",
      "Processing Record 44 of Set 5 | kegayli\n",
      "City not found. Skipping...\n",
      "Processing Record 45 of Set 5 | sorland\n",
      "Processing Record 46 of Set 5 | tsihombe\n",
      "City not found. Skipping...\n",
      "Processing Record 47 of Set 5 | kodiak\n",
      "Processing Record 48 of Set 5 | tuatapere\n",
      "Processing Record 49 of Set 5 | vila franca do campo\n",
      "Processing Record 0 of Set 6 | vaitupu\n",
      "City not found. Skipping...\n",
      "Processing Record 1 of Set 6 | haibowan\n",
      "City not found. Skipping...\n",
      "Processing Record 2 of Set 6 | bhopal\n",
      "Processing Record 3 of Set 6 | dunedin\n",
      "Processing Record 4 of Set 6 | tabialan\n",
      "City not found. Skipping...\n",
      "Processing Record 5 of Set 6 | price\n",
      "Processing Record 6 of Set 6 | bairiki\n",
      "Processing Record 7 of Set 6 | valday\n",
      "Processing Record 8 of Set 6 | chokurdakh\n",
      "Processing Record 9 of Set 6 | kirensk\n",
      "Processing Record 10 of Set 6 | riachao das neves\n",
      "Processing Record 11 of Set 6 | karamay\n",
      "City not found. Skipping...\n",
      "Processing Record 12 of Set 6 | santa lucia\n",
      "Processing Record 13 of Set 6 | mackay\n",
      "Processing Record 14 of Set 6 | gravdal\n",
      "Processing Record 15 of Set 6 | izhma\n",
      "Processing Record 16 of Set 6 | golden gate\n",
      "Processing Record 17 of Set 6 | clearlake\n",
      "Processing Record 18 of Set 6 | ozgon\n",
      "City not found. Skipping...\n",
      "Processing Record 19 of Set 6 | pangkalanbuun\n",
      "Processing Record 20 of Set 6 | cap malheureux\n",
      "Processing Record 21 of Set 6 | taltal\n",
      "Processing Record 22 of Set 6 | malakal\n",
      "Processing Record 23 of Set 6 | saint anthony\n",
      "Processing Record 24 of Set 6 | zlocieniec\n",
      "Processing Record 25 of Set 6 | berdigestyakh\n",
      "Processing Record 26 of Set 6 | blagoyevo\n",
      "Processing Record 27 of Set 6 | verkh-chebula\n",
      "Processing Record 28 of Set 6 | bazpur\n",
      "Processing Record 29 of Set 6 | la tuque\n",
      "Processing Record 30 of Set 6 | saskylakh\n",
      "Processing Record 31 of Set 6 | erzin\n",
      "Processing Record 32 of Set 6 | namibe\n",
      "Processing Record 33 of Set 6 | port lincoln\n",
      "Processing Record 34 of Set 6 | horta\n",
      "Processing Record 35 of Set 6 | san patricio\n",
      "Processing Record 36 of Set 6 | provideniya\n",
      "Processing Record 37 of Set 6 | brufut\n",
      "Processing Record 38 of Set 6 | piterka\n",
      "Processing Record 39 of Set 6 | sungaipenuh\n",
      "Processing Record 40 of Set 6 | geresk\n",
      "City not found. Skipping...\n",
      "Processing Record 41 of Set 6 | port hedland\n",
      "Processing Record 42 of Set 6 | zhezkazgan\n",
      "Processing Record 43 of Set 6 | moreira sales\n",
      "Processing Record 44 of Set 6 | atar\n",
      "Processing Record 45 of Set 6 | charcas\n",
      "Processing Record 46 of Set 6 | turtkul\n",
      "City not found. Skipping...\n",
      "Processing Record 47 of Set 6 | maniitsoq\n",
      "Processing Record 48 of Set 6 | broome\n",
      "Processing Record 49 of Set 6 | kahului\n",
      "Processing Record 0 of Set 7 | asau\n",
      "Processing Record 1 of Set 7 | neiafu\n",
      "Processing Record 2 of Set 7 | fulton\n",
      "Processing Record 3 of Set 7 | benoy\n",
      "Processing Record 4 of Set 7 | margate\n",
      "Processing Record 5 of Set 7 | darhan\n",
      "Processing Record 6 of Set 7 | cuenca\n",
      "Processing Record 7 of Set 7 | marsabit\n",
      "Processing Record 8 of Set 7 | maba\n",
      "Processing Record 9 of Set 7 | moose factory\n",
      "Processing Record 10 of Set 7 | sur\n",
      "Processing Record 11 of Set 7 | yamada\n",
      "Processing Record 12 of Set 7 | safaqis\n",
      "City not found. Skipping...\n",
      "Processing Record 13 of Set 7 | qostanay\n",
      "Processing Record 14 of Set 7 | burica\n",
      "City not found. Skipping...\n",
      "Processing Record 15 of Set 7 | manggar\n",
      "Processing Record 16 of Set 7 | hambantota\n",
      "Processing Record 17 of Set 7 | eldorado\n",
      "Processing Record 18 of Set 7 | washington\n",
      "Processing Record 19 of Set 7 | morros\n",
      "Processing Record 20 of Set 7 | inderborskiy\n",
      "City not found. Skipping...\n",
      "Processing Record 21 of Set 7 | miyako\n",
      "Processing Record 22 of Set 7 | kamenka\n",
      "Processing Record 23 of Set 7 | coihaique\n",
      "Processing Record 24 of Set 7 | grand gaube\n",
      "Processing Record 25 of Set 7 | souillac\n",
      "Processing Record 26 of Set 7 | mishan\n",
      "Processing Record 27 of Set 7 | astana\n",
      "Processing Record 28 of Set 7 | lodja\n",
      "Processing Record 29 of Set 7 | sao borja\n",
      "Processing Record 30 of Set 7 | sao filipe\n",
      "Processing Record 31 of Set 7 | bay saint louis\n",
      "Processing Record 32 of Set 7 | pangody\n",
      "Processing Record 33 of Set 7 | warwick\n",
      "Processing Record 34 of Set 7 | ilhabela\n",
      "Processing Record 35 of Set 7 | puerto escondido\n",
      "Processing Record 36 of Set 7 | albacete\n",
      "Processing Record 37 of Set 7 | sampang\n",
      "Processing Record 38 of Set 7 | shakiso\n",
      "Processing Record 39 of Set 7 | barawe\n",
      "City not found. Skipping...\n",
      "Processing Record 40 of Set 7 | nioro\n",
      "Processing Record 41 of Set 7 | atambua\n",
      "Processing Record 42 of Set 7 | odienne\n",
      "Processing Record 43 of Set 7 | spokane\n",
      "Processing Record 44 of Set 7 | waipawa\n",
      "Processing Record 45 of Set 7 | diffa\n",
      "Processing Record 46 of Set 7 | qui nhon\n",
      "Processing Record 47 of Set 7 | raga\n",
      "Processing Record 48 of Set 7 | van buren\n",
      "Processing Record 49 of Set 7 | launceston\n",
      "Processing Record 0 of Set 8 | cayenne\n",
      "Processing Record 1 of Set 8 | george\n",
      "Processing Record 2 of Set 8 | tres arroyos\n",
      "Processing Record 3 of Set 8 | biak\n",
      "Processing Record 4 of Set 8 | loudon\n",
      "Processing Record 5 of Set 8 | awjilah\n",
      "Processing Record 6 of Set 8 | chatra\n",
      "Processing Record 7 of Set 8 | dwarka\n",
      "Processing Record 8 of Set 8 | mashivka\n",
      "Processing Record 9 of Set 8 | knysna\n",
      "Processing Record 10 of Set 8 | castanos\n",
      "Processing Record 11 of Set 8 | bundaberg\n",
      "Processing Record 12 of Set 8 | anaconda\n",
      "Processing Record 13 of Set 8 | kalininskaya\n",
      "Processing Record 14 of Set 8 | kongolo\n",
      "Processing Record 15 of Set 8 | kloulklubed\n",
      "Processing Record 16 of Set 8 | petropavlovsk-kamchatskiy\n",
      "Processing Record 17 of Set 8 | garachine\n",
      "Processing Record 18 of Set 8 | hamilton\n",
      "Processing Record 19 of Set 8 | dujuma\n",
      "City not found. Skipping...\n",
      "Processing Record 20 of Set 8 | gat\n",
      "Processing Record 21 of Set 8 | largo\n",
      "Processing Record 22 of Set 8 | san quintin\n",
      "Processing Record 23 of Set 8 | copiapo\n",
      "Processing Record 24 of Set 8 | chirongui\n",
      "Processing Record 25 of Set 8 | silvan\n",
      "Processing Record 26 of Set 8 | biloela\n",
      "Processing Record 27 of Set 8 | ikot ekpene\n"
     ]
    },
    {
     "name": "stdout",
     "output_type": "stream",
     "text": [
      "Processing Record 28 of Set 8 | aksarka\n",
      "Processing Record 29 of Set 8 | porirua\n",
      "Processing Record 30 of Set 8 | parkersburg\n",
      "Processing Record 31 of Set 8 | batticaloa\n",
      "Processing Record 32 of Set 8 | baghdad\n",
      "Processing Record 33 of Set 8 | yima\n",
      "Processing Record 34 of Set 8 | ewa beach\n",
      "Processing Record 35 of Set 8 | plettenberg bay\n",
      "Processing Record 36 of Set 8 | puerto del rosario\n",
      "Processing Record 37 of Set 8 | qandahar\n",
      "City not found. Skipping...\n",
      "Processing Record 38 of Set 8 | seymchan\n",
      "Processing Record 39 of Set 8 | kyabram\n",
      "Processing Record 40 of Set 8 | lolua\n",
      "City not found. Skipping...\n",
      "Processing Record 41 of Set 8 | bandarbeyla\n",
      "Processing Record 42 of Set 8 | grindavik\n",
      "Processing Record 43 of Set 8 | bereda\n",
      "Processing Record 44 of Set 8 | ixtapa\n",
      "Processing Record 45 of Set 8 | verkhnyaya toyma\n",
      "Processing Record 46 of Set 8 | palmas bellas\n",
      "Processing Record 47 of Set 8 | aswan\n",
      "Processing Record 48 of Set 8 | leningradskiy\n",
      "Processing Record 49 of Set 8 | kahta\n",
      "Processing Record 0 of Set 9 | wajima\n",
      "Processing Record 1 of Set 9 | tamsweg\n",
      "Processing Record 2 of Set 9 | nola\n",
      "Processing Record 3 of Set 9 | wanning\n",
      "Processing Record 4 of Set 9 | casper\n",
      "Processing Record 5 of Set 9 | havoysund\n",
      "Processing Record 6 of Set 9 | mudkhed\n",
      "Processing Record 7 of Set 9 | cabedelo\n",
      "Processing Record 8 of Set 9 | berlevag\n",
      "Processing Record 9 of Set 9 | marienburg\n",
      "Processing Record 10 of Set 9 | nizhneyansk\n",
      "City not found. Skipping...\n",
      "Processing Record 11 of Set 9 | touros\n",
      "Processing Record 12 of Set 9 | toamua\n",
      "City not found. Skipping...\n",
      "Processing Record 13 of Set 9 | yenagoa\n",
      "Processing Record 14 of Set 9 | el wasta\n",
      "City not found. Skipping...\n",
      "Processing Record 15 of Set 9 | bac lieu\n",
      "Processing Record 16 of Set 9 | mamallapuram\n",
      "Processing Record 17 of Set 9 | kardailovo\n",
      "Processing Record 18 of Set 9 | serebriya\n",
      "Processing Record 19 of Set 9 | alice springs\n",
      "Processing Record 20 of Set 9 | katsuura\n",
      "Processing Record 21 of Set 9 | san roque\n",
      "Processing Record 22 of Set 9 | kandalaksha\n",
      "Processing Record 23 of Set 9 | emerald\n",
      "Processing Record 24 of Set 9 | tawkar\n",
      "City not found. Skipping...\n",
      "Processing Record 25 of Set 9 | ranong\n",
      "Processing Record 26 of Set 9 | puerto suarez\n",
      "Processing Record 27 of Set 9 | klaksvik\n",
      "Processing Record 28 of Set 9 | elk plain\n",
      "Processing Record 29 of Set 9 | middletown\n",
      "Processing Record 30 of Set 9 | marsa matruh\n",
      "Processing Record 31 of Set 9 | san cristobal\n",
      "Processing Record 32 of Set 9 | aquin\n",
      "Processing Record 33 of Set 9 | japura\n",
      "Processing Record 34 of Set 9 | avallon\n",
      "Processing Record 35 of Set 9 | berbera\n",
      "Processing Record 36 of Set 9 | esperance\n",
      "Processing Record 37 of Set 9 | katherine\n",
      "Processing Record 38 of Set 9 | nouadhibou\n",
      "Processing Record 39 of Set 9 | cotonou\n",
      "Processing Record 40 of Set 9 | wahran\n",
      "City not found. Skipping...\n",
      "Processing Record 41 of Set 9 | pitimbu\n",
      "Processing Record 42 of Set 9 | martapura\n",
      "Processing Record 43 of Set 9 | gardan diwal\n",
      "City not found. Skipping...\n",
      "Processing Record 44 of Set 9 | sioux lookout\n",
      "Processing Record 45 of Set 9 | la ronge\n",
      "Processing Record 46 of Set 9 | araouane\n",
      "Processing Record 47 of Set 9 | talcher\n",
      "Processing Record 48 of Set 9 | caluquembe\n",
      "Processing Record 49 of Set 9 | broken hill\n",
      "Processing Record 0 of Set 10 | monrovia\n",
      "Processing Record 1 of Set 10 | bolshoye nagatkino\n",
      "Processing Record 2 of Set 10 | ahuimanu\n",
      "Processing Record 3 of Set 10 | samarai\n",
      "Processing Record 4 of Set 10 | preobrazhenskaya\n",
      "City not found. Skipping...\n",
      "Processing Record 5 of Set 10 | sobolevo\n",
      "Processing Record 6 of Set 10 | calabazar de sagua\n",
      "Processing Record 7 of Set 10 | umm durman\n",
      "City not found. Skipping...\n",
      "Processing Record 8 of Set 10 | coquimbo\n",
      "Processing Record 9 of Set 10 | russell\n",
      "Processing Record 10 of Set 10 | buala\n",
      "Processing Record 11 of Set 10 | vanavara\n",
      "Processing Record 12 of Set 10 | tashtagol\n",
      "Processing Record 13 of Set 10 | nikolskoye\n",
      "Processing Record 14 of Set 10 | roswell\n",
      "Processing Record 15 of Set 10 | ilulissat\n",
      "Processing Record 16 of Set 10 | flagstaff\n",
      "Processing Record 17 of Set 10 | hell\n",
      "Processing Record 18 of Set 10 | saint-leu\n",
      "Processing Record 19 of Set 10 | ambon\n",
      "Processing Record 20 of Set 10 | fairbanks\n",
      "Processing Record 21 of Set 10 | tidore\n",
      "City not found. Skipping...\n",
      "Processing Record 22 of Set 10 | maghama\n",
      "City not found. Skipping...\n",
      "Processing Record 23 of Set 10 | bambous virieux\n",
      "Processing Record 24 of Set 10 | ilebo\n",
      "Processing Record 25 of Set 10 | dabakala\n",
      "Processing Record 26 of Set 10 | kununurra\n",
      "Processing Record 27 of Set 10 | ladario\n",
      "Processing Record 28 of Set 10 | batagay\n",
      "Processing Record 29 of Set 10 | nelson bay\n",
      "Processing Record 30 of Set 10 | nantucket\n",
      "Processing Record 31 of Set 10 | anadyr\n",
      "Processing Record 32 of Set 10 | okhotsk\n",
      "Processing Record 33 of Set 10 | mergui\n",
      "City not found. Skipping...\n",
      "Processing Record 34 of Set 10 | nishihara\n",
      "Processing Record 35 of Set 10 | yokadouma\n",
      "Processing Record 36 of Set 10 | surt\n",
      "Processing Record 37 of Set 10 | magrath\n",
      "Processing Record 38 of Set 10 | college\n",
      "Processing Record 39 of Set 10 | waingapu\n",
      "Processing Record 40 of Set 10 | rawson\n",
      "Processing Record 41 of Set 10 | bansko\n",
      "Processing Record 42 of Set 10 | aanekoski\n",
      "Processing Record 43 of Set 10 | yulara\n",
      "Processing Record 44 of Set 10 | basoko\n",
      "Processing Record 45 of Set 10 | kansk\n",
      "Processing Record 46 of Set 10 | christchurch\n",
      "Processing Record 47 of Set 10 | tarko-sale\n",
      "Processing Record 48 of Set 10 | attawapiskat\n",
      "City not found. Skipping...\n",
      "Processing Record 49 of Set 10 | aksaray\n",
      "Processing Record 0 of Set 11 | oranjemund\n",
      "Processing Record 1 of Set 11 | pacific grove\n",
      "Processing Record 2 of Set 11 | kungurtug\n",
      "Processing Record 3 of Set 11 | nikolayevsk-na-amure\n",
      "Processing Record 4 of Set 11 | kieta\n",
      "Processing Record 5 of Set 11 | the valley\n",
      "Processing Record 6 of Set 11 | hwange\n",
      "Processing Record 7 of Set 11 | cervo\n",
      "Processing Record 8 of Set 11 | bay roberts\n",
      "Processing Record 9 of Set 11 | ngunguru\n",
      "Processing Record 10 of Set 11 | fort-shevchenko\n",
      "Processing Record 11 of Set 11 | phangnga\n",
      "Processing Record 12 of Set 11 | hami\n",
      "Processing Record 13 of Set 11 | pedro ii\n",
      "Processing Record 14 of Set 11 | tarata\n",
      "Processing Record 15 of Set 11 | tambura\n",
      "Processing Record 16 of Set 11 | fevralsk\n",
      "City not found. Skipping...\n",
      "Processing Record 17 of Set 11 | yuli\n",
      "Processing Record 18 of Set 11 | amahai\n",
      "Processing Record 19 of Set 11 | port macquarie\n",
      "Processing Record 20 of Set 11 | loikaw\n",
      "Processing Record 21 of Set 11 | floro\n",
      "Processing Record 22 of Set 11 | shelburne\n",
      "Processing Record 23 of Set 11 | itarema\n",
      "Processing Record 24 of Set 11 | mariana\n",
      "Processing Record 25 of Set 11 | ahipara\n",
      "Processing Record 26 of Set 11 | suleja\n",
      "Processing Record 27 of Set 11 | calabozo\n",
      "Processing Record 28 of Set 11 | valdez\n",
      "Processing Record 29 of Set 11 | felanitx\n",
      "Processing Record 30 of Set 11 | kapuskasing\n",
      "Processing Record 31 of Set 11 | denpasar\n",
      "Processing Record 32 of Set 11 | norfolk\n",
      "Processing Record 33 of Set 11 | nuevitas\n",
      "Processing Record 34 of Set 11 | teya\n",
      "Processing Record 35 of Set 11 | faya\n",
      "Processing Record 36 of Set 11 | tucurui\n",
      "Processing Record 37 of Set 11 | santa maria\n",
      "Processing Record 38 of Set 11 | ivanteyevka\n",
      "Processing Record 39 of Set 11 | tamara\n",
      "Processing Record 40 of Set 11 | myanaung\n",
      "Processing Record 41 of Set 11 | guadalupe y calvo\n",
      "Processing Record 42 of Set 11 | tomatlan\n",
      "Processing Record 43 of Set 11 | yar-sale\n",
      "Processing Record 44 of Set 11 | monastyrshchina\n",
      "Processing Record 45 of Set 11 | spruce grove\n",
      "Processing Record 46 of Set 11 | luba\n",
      "Processing Record 47 of Set 11 | auki\n",
      "Processing Record 48 of Set 11 | aguimes\n",
      "Processing Record 49 of Set 11 | chapais\n",
      "Processing Record 0 of Set 12 | chagda\n",
      "City not found. Skipping...\n",
      "Processing Record 1 of Set 12 | gravelbourg\n",
      "Processing Record 2 of Set 12 | paita\n",
      "Processing Record 3 of Set 12 | sitka\n",
      "Processing Record 4 of Set 12 | rebrikha\n",
      "Processing Record 5 of Set 12 | sao joao do paraiso\n",
      "Processing Record 6 of Set 12 | la primavera\n",
      "Processing Record 7 of Set 12 | bartica\n",
      "Processing Record 8 of Set 12 | miraflores\n",
      "Processing Record 9 of Set 12 | alotau\n",
      "City not found. Skipping...\n",
      "Processing Record 10 of Set 12 | prince rupert\n",
      "Processing Record 11 of Set 12 | ust-ilimsk\n",
      "Processing Record 12 of Set 12 | ngukurr\n",
      "City not found. Skipping...\n"
     ]
    },
    {
     "name": "stdout",
     "output_type": "stream",
     "text": [
      "Processing Record 13 of Set 12 | casino\n",
      "Processing Record 14 of Set 12 | aykhal\n",
      "Processing Record 15 of Set 12 | bajil\n",
      "Processing Record 16 of Set 12 | arkhara\n",
      "Processing Record 17 of Set 12 | putina\n",
      "Processing Record 18 of Set 12 | olga\n",
      "Processing Record 19 of Set 12 | cerrito\n",
      "Processing Record 20 of Set 12 | xining\n",
      "Processing Record 21 of Set 12 | galiwinku\n",
      "City not found. Skipping...\n",
      "Processing Record 22 of Set 12 | valtierrilla\n",
      "Processing Record 23 of Set 12 | sentyabrskiy\n",
      "City not found. Skipping...\n",
      "Processing Record 24 of Set 12 | anchorage\n",
      "Processing Record 25 of Set 12 | goedereede\n",
      "Processing Record 26 of Set 12 | bolungarvik\n",
      "City not found. Skipping...\n",
      "Processing Record 27 of Set 12 | kulhudhuffushi\n",
      "Processing Record 28 of Set 12 | san juan de los morros\n",
      "Processing Record 29 of Set 12 | slyudyanka\n",
      "Processing Record 30 of Set 12 | nuuk\n",
      "Processing Record 31 of Set 12 | loreto\n",
      "Processing Record 32 of Set 12 | usinsk\n",
      "Processing Record 33 of Set 12 | dandong\n",
      "Processing Record 34 of Set 12 | goundam\n",
      "Processing Record 35 of Set 12 | rimbey\n",
      "Processing Record 36 of Set 12 | tura\n",
      "Processing Record 37 of Set 12 | sarangani\n",
      "Processing Record 38 of Set 12 | rockhampton\n",
      "Processing Record 39 of Set 12 | eenhana\n",
      "Processing Record 40 of Set 12 | homer\n",
      "Processing Record 41 of Set 12 | kita\n",
      "Processing Record 42 of Set 12 | timmins\n",
      "Processing Record 43 of Set 12 | noshiro\n",
      "Processing Record 44 of Set 12 | coelho neto\n",
      "Processing Record 45 of Set 12 | hithadhoo\n",
      "Processing Record 46 of Set 12 | praia\n",
      "Processing Record 47 of Set 12 | romitan\n",
      "Processing Record 48 of Set 12 | siay\n",
      "Processing Record 49 of Set 12 | halalo\n",
      "City not found. Skipping...\n",
      "Processing Record 0 of Set 13 | santa eulalia del rio\n",
      "City not found. Skipping...\n",
      "Processing Record 1 of Set 13 | bonavista\n",
      "Processing Record 2 of Set 13 | shitanjing\n",
      "Processing Record 3 of Set 13 | labytnangi\n",
      "Processing Record 4 of Set 13 | changping\n",
      "Processing Record 5 of Set 13 | san vicente\n",
      "Processing Record 6 of Set 13 | horodkivka\n",
      "Processing Record 7 of Set 13 | mercedes\n",
      "Processing Record 8 of Set 13 | la crosse\n",
      "Processing Record 9 of Set 13 | jalu\n",
      "Processing Record 10 of Set 13 | namtsy\n",
      "Processing Record 11 of Set 13 | evanston\n",
      "Processing Record 12 of Set 13 | elat\n",
      "Processing Record 13 of Set 13 | talcahuano\n",
      "Processing Record 14 of Set 13 | baripada\n",
      "Processing Record 15 of Set 13 | ulagan\n",
      "Processing Record 16 of Set 13 | pinalejo\n",
      "Processing Record 17 of Set 13 | kaa-khem\n",
      "Processing Record 18 of Set 13 | padang\n",
      "Processing Record 19 of Set 13 | monte patria\n",
      "Processing Record 20 of Set 13 | ouro preto do oeste\n",
      "Processing Record 21 of Set 13 | ternate\n",
      "Processing Record 22 of Set 13 | srandakan\n",
      "Processing Record 23 of Set 13 | sinjar\n",
      "Processing Record 24 of Set 13 | merauke\n",
      "Processing Record 25 of Set 13 | alyangula\n",
      "Processing Record 26 of Set 13 | caravelas\n",
      "Processing Record 27 of Set 13 | cairns\n",
      "Processing Record 28 of Set 13 | tianpeng\n",
      "Processing Record 29 of Set 13 | sambava\n",
      "Processing Record 30 of Set 13 | chaa-khol\n",
      "City not found. Skipping...\n",
      "Processing Record 31 of Set 13 | thyolo\n",
      "Processing Record 32 of Set 13 | kaka\n",
      "Processing Record 33 of Set 13 | gamba\n",
      "Processing Record 34 of Set 13 | klyuchi\n",
      "Processing Record 35 of Set 13 | imst\n",
      "Processing Record 36 of Set 13 | amderma\n",
      "City not found. Skipping...\n",
      "Processing Record 37 of Set 13 | banda aceh\n",
      "Processing Record 38 of Set 13 | mogadishu\n",
      "Processing Record 39 of Set 13 | bubaque\n",
      "Processing Record 40 of Set 13 | angoche\n",
      "Processing Record 41 of Set 13 | xuddur\n",
      "Processing Record 42 of Set 13 | ust-tsilma\n",
      "Processing Record 43 of Set 13 | cururupu\n",
      "Processing Record 44 of Set 13 | turayf\n",
      "Processing Record 45 of Set 13 | ponta delgada\n",
      "Processing Record 46 of Set 13 | omboue\n",
      "Processing Record 47 of Set 13 | ugoofaaru\n",
      "Processing Record 48 of Set 13 | north platte\n",
      "Processing Record 49 of Set 13 | belmonte\n"
     ]
    }
   ],
   "source": [
    "url = \"https://api.openweathermap.org/\"\n",
    "\n",
    "print(f'Beginning Data Retrieval \\n -----------------------------') \n",
    "\n",
    "lat = []\n",
    "lon = []\n",
    "max_temp = []\n",
    "humidity = []\n",
    "cloudiness = []\n",
    "wind_speed = []\n",
    "date = []\n",
    "cities_list = []\n",
    "country = []\n",
    "\n",
    "x = 0\n",
    "setcounter = 1\n",
    "for city in cities:\n",
    "    x += 1\n",
    "    if (x == 50):\n",
    "            setcounter = setcounter + 1\n",
    "            x = 0 \n",
    "    try:\n",
    "        city_response = requests.get(f\"{url}data/2.5/weather?q={city}&units=imperial&appid={weather_api_key}\")\n",
    "        city_response_json = city_response.json()\n",
    "        print(f'Processing Record {x} of Set {setcounter} | {city}')\n",
    "        lat.append(city_response_json['coord']['lat'])\n",
    "        lon.append(city_response_json['coord']['lon'])\n",
    "        max_temp.append(city_response_json['main']['temp_max'])\n",
    "        humidity.append(city_response_json['main']['humidity'])\n",
    "        cloudiness.append(city_response_json['clouds']['all'])\n",
    "        wind_speed.append(city_response_json['wind']['speed'])\n",
    "        date.append(city_response_json['dt'])\n",
    "        cities_list.append(city_response_json['name'])\n",
    "        country.append(city_response_json['sys']['country'])\n",
    "    except:\n",
    "        print(f'City not found. Skipping...')"
   ]
  },
  {
   "cell_type": "markdown",
   "metadata": {},
   "source": [
    "### Convert Raw Data to DataFrame\n",
    "* Export the city data into a .csv.\n",
    "* Display the DataFrame"
   ]
  },
  {
   "cell_type": "code",
   "execution_count": 4,
   "metadata": {},
   "outputs": [
    {
     "data": {
      "text/html": [
       "<div>\n",
       "<style scoped>\n",
       "    .dataframe tbody tr th:only-of-type {\n",
       "        vertical-align: middle;\n",
       "    }\n",
       "\n",
       "    .dataframe tbody tr th {\n",
       "        vertical-align: top;\n",
       "    }\n",
       "\n",
       "    .dataframe thead th {\n",
       "        text-align: right;\n",
       "    }\n",
       "</style>\n",
       "<table border=\"1\" class=\"dataframe\">\n",
       "  <thead>\n",
       "    <tr style=\"text-align: right;\">\n",
       "      <th></th>\n",
       "      <th>City</th>\n",
       "      <th>Lat</th>\n",
       "      <th>Lng</th>\n",
       "      <th>Max_Temp</th>\n",
       "      <th>Humidity</th>\n",
       "      <th>Cloudiness</th>\n",
       "      <th>Wind_Speed</th>\n",
       "      <th>Country</th>\n",
       "      <th>Date</th>\n",
       "    </tr>\n",
       "  </thead>\n",
       "  <tbody>\n",
       "    <tr>\n",
       "      <th>0</th>\n",
       "      <td>Lakes Entrance</td>\n",
       "      <td>-37.8811</td>\n",
       "      <td>147.9810</td>\n",
       "      <td>44.01</td>\n",
       "      <td>96</td>\n",
       "      <td>9</td>\n",
       "      <td>8.93</td>\n",
       "      <td>AU</td>\n",
       "      <td>1619469149</td>\n",
       "    </tr>\n",
       "    <tr>\n",
       "      <th>1</th>\n",
       "      <td>Lebu</td>\n",
       "      <td>-37.6167</td>\n",
       "      <td>-73.6500</td>\n",
       "      <td>59.00</td>\n",
       "      <td>73</td>\n",
       "      <td>2</td>\n",
       "      <td>12.57</td>\n",
       "      <td>CL</td>\n",
       "      <td>1619468889</td>\n",
       "    </tr>\n",
       "    <tr>\n",
       "      <th>2</th>\n",
       "      <td>Mataura</td>\n",
       "      <td>-46.1927</td>\n",
       "      <td>168.8643</td>\n",
       "      <td>39.99</td>\n",
       "      <td>89</td>\n",
       "      <td>100</td>\n",
       "      <td>1.01</td>\n",
       "      <td>NZ</td>\n",
       "      <td>1619468783</td>\n",
       "    </tr>\n",
       "    <tr>\n",
       "      <th>3</th>\n",
       "      <td>Punta Arenas</td>\n",
       "      <td>-53.1500</td>\n",
       "      <td>-70.9167</td>\n",
       "      <td>44.60</td>\n",
       "      <td>100</td>\n",
       "      <td>90</td>\n",
       "      <td>10.36</td>\n",
       "      <td>CL</td>\n",
       "      <td>1619468682</td>\n",
       "    </tr>\n",
       "    <tr>\n",
       "      <th>4</th>\n",
       "      <td>Moundsville</td>\n",
       "      <td>39.9203</td>\n",
       "      <td>-80.7431</td>\n",
       "      <td>66.99</td>\n",
       "      <td>31</td>\n",
       "      <td>1</td>\n",
       "      <td>3.04</td>\n",
       "      <td>US</td>\n",
       "      <td>1619469151</td>\n",
       "    </tr>\n",
       "  </tbody>\n",
       "</table>\n",
       "</div>"
      ],
      "text/plain": [
       "             City      Lat       Lng  Max_Temp  Humidity  Cloudiness  \\\n",
       "0  Lakes Entrance -37.8811  147.9810     44.01        96           9   \n",
       "1            Lebu -37.6167  -73.6500     59.00        73           2   \n",
       "2         Mataura -46.1927  168.8643     39.99        89         100   \n",
       "3    Punta Arenas -53.1500  -70.9167     44.60       100          90   \n",
       "4     Moundsville  39.9203  -80.7431     66.99        31           1   \n",
       "\n",
       "   Wind_Speed Country        Date  \n",
       "0        8.93      AU  1619469149  \n",
       "1       12.57      CL  1619468889  \n",
       "2        1.01      NZ  1619468783  \n",
       "3       10.36      CL  1619468682  \n",
       "4        3.04      US  1619469151  "
      ]
     },
     "execution_count": 4,
     "metadata": {},
     "output_type": "execute_result"
    }
   ],
   "source": [
    "#Convert to df\n",
    "city_data = pd.DataFrame({'City': cities_list,\n",
    "                        'Lat': lat,\n",
    "                        'Lng': lon,\n",
    "                        'Max_Temp': max_temp,\n",
    "                        'Humidity': humidity,\n",
    "                        'Cloudiness': cloudiness,\n",
    "                        'Wind_Speed': wind_speed,\n",
    "                        'Country': country,\n",
    "                        'Date': date\n",
    "})\n",
    "\n",
    "#Export to .csv\n",
    "city_data.to_csv(\"../output_data/cities1.csv\", index=False)\n",
    "\n",
    "#Display to df\n",
    "city_data.head()"
   ]
  },
  {
   "cell_type": "code",
   "execution_count": 5,
   "metadata": {
    "scrolled": true
   },
   "outputs": [
    {
     "data": {
      "text/html": [
       "<div>\n",
       "<style scoped>\n",
       "    .dataframe tbody tr th:only-of-type {\n",
       "        vertical-align: middle;\n",
       "    }\n",
       "\n",
       "    .dataframe tbody tr th {\n",
       "        vertical-align: top;\n",
       "    }\n",
       "\n",
       "    .dataframe thead th {\n",
       "        text-align: right;\n",
       "    }\n",
       "</style>\n",
       "<table border=\"1\" class=\"dataframe\">\n",
       "  <thead>\n",
       "    <tr style=\"text-align: right;\">\n",
       "      <th></th>\n",
       "      <th>Lat</th>\n",
       "      <th>Lng</th>\n",
       "      <th>Max_Temp</th>\n",
       "      <th>Humidity</th>\n",
       "      <th>Cloudiness</th>\n",
       "      <th>Wind_Speed</th>\n",
       "      <th>Date</th>\n",
       "    </tr>\n",
       "  </thead>\n",
       "  <tbody>\n",
       "    <tr>\n",
       "      <th>count</th>\n",
       "      <td>592.000000</td>\n",
       "      <td>592.000000</td>\n",
       "      <td>592.000000</td>\n",
       "      <td>592.000000</td>\n",
       "      <td>592.000000</td>\n",
       "      <td>592.000000</td>\n",
       "      <td>5.920000e+02</td>\n",
       "    </tr>\n",
       "    <tr>\n",
       "      <th>mean</th>\n",
       "      <td>18.568266</td>\n",
       "      <td>15.462506</td>\n",
       "      <td>61.830912</td>\n",
       "      <td>67.760135</td>\n",
       "      <td>54.905405</td>\n",
       "      <td>7.402483</td>\n",
       "      <td>1.619469e+09</td>\n",
       "    </tr>\n",
       "    <tr>\n",
       "      <th>std</th>\n",
       "      <td>33.050963</td>\n",
       "      <td>91.512756</td>\n",
       "      <td>19.999854</td>\n",
       "      <td>23.575703</td>\n",
       "      <td>37.908267</td>\n",
       "      <td>4.863225</td>\n",
       "      <td>2.630185e+02</td>\n",
       "    </tr>\n",
       "    <tr>\n",
       "      <th>min</th>\n",
       "      <td>-54.800000</td>\n",
       "      <td>-179.166700</td>\n",
       "      <td>-0.920000</td>\n",
       "      <td>1.000000</td>\n",
       "      <td>0.000000</td>\n",
       "      <td>0.180000</td>\n",
       "      <td>1.619468e+09</td>\n",
       "    </tr>\n",
       "    <tr>\n",
       "      <th>25%</th>\n",
       "      <td>-8.784900</td>\n",
       "      <td>-67.451150</td>\n",
       "      <td>46.400000</td>\n",
       "      <td>55.000000</td>\n",
       "      <td>20.000000</td>\n",
       "      <td>3.642500</td>\n",
       "      <td>1.619469e+09</td>\n",
       "    </tr>\n",
       "    <tr>\n",
       "      <th>50%</th>\n",
       "      <td>20.783350</td>\n",
       "      <td>21.255800</td>\n",
       "      <td>66.000000</td>\n",
       "      <td>73.000000</td>\n",
       "      <td>66.500000</td>\n",
       "      <td>6.080000</td>\n",
       "      <td>1.619469e+09</td>\n",
       "    </tr>\n",
       "    <tr>\n",
       "      <th>75%</th>\n",
       "      <td>47.163175</td>\n",
       "      <td>97.287750</td>\n",
       "      <td>78.572500</td>\n",
       "      <td>87.000000</td>\n",
       "      <td>90.000000</td>\n",
       "      <td>10.052500</td>\n",
       "      <td>1.619469e+09</td>\n",
       "    </tr>\n",
       "    <tr>\n",
       "      <th>max</th>\n",
       "      <td>78.218600</td>\n",
       "      <td>178.416700</td>\n",
       "      <td>97.480000</td>\n",
       "      <td>100.000000</td>\n",
       "      <td>100.000000</td>\n",
       "      <td>29.930000</td>\n",
       "      <td>1.619469e+09</td>\n",
       "    </tr>\n",
       "  </tbody>\n",
       "</table>\n",
       "</div>"
      ],
      "text/plain": [
       "              Lat         Lng    Max_Temp    Humidity  Cloudiness  Wind_Speed  \\\n",
       "count  592.000000  592.000000  592.000000  592.000000  592.000000  592.000000   \n",
       "mean    18.568266   15.462506   61.830912   67.760135   54.905405    7.402483   \n",
       "std     33.050963   91.512756   19.999854   23.575703   37.908267    4.863225   \n",
       "min    -54.800000 -179.166700   -0.920000    1.000000    0.000000    0.180000   \n",
       "25%     -8.784900  -67.451150   46.400000   55.000000   20.000000    3.642500   \n",
       "50%     20.783350   21.255800   66.000000   73.000000   66.500000    6.080000   \n",
       "75%     47.163175   97.287750   78.572500   87.000000   90.000000   10.052500   \n",
       "max     78.218600  178.416700   97.480000  100.000000  100.000000   29.930000   \n",
       "\n",
       "               Date  \n",
       "count  5.920000e+02  \n",
       "mean   1.619469e+09  \n",
       "std    2.630185e+02  \n",
       "min    1.619468e+09  \n",
       "25%    1.619469e+09  \n",
       "50%    1.619469e+09  \n",
       "75%    1.619469e+09  \n",
       "max    1.619469e+09  "
      ]
     },
     "execution_count": 5,
     "metadata": {},
     "output_type": "execute_result"
    }
   ],
   "source": [
    "cities_df4 = city_data.describe(include='all')\n",
    "cities_df4 = cities_df4.drop(['City', 'Country'], axis=1)\n",
    "cities_df4.dropna()"
   ]
  },
  {
   "cell_type": "markdown",
   "metadata": {},
   "source": [
    "## Inspect the data and remove the cities where the humidity > 100%.\n",
    "----\n",
    "Skip this step if there are no cities that have humidity > 100%. "
   ]
  },
  {
   "cell_type": "code",
   "execution_count": 8,
   "metadata": {},
   "outputs": [
    {
     "data": {
      "text/html": [
       "<div>\n",
       "<style scoped>\n",
       "    .dataframe tbody tr th:only-of-type {\n",
       "        vertical-align: middle;\n",
       "    }\n",
       "\n",
       "    .dataframe tbody tr th {\n",
       "        vertical-align: top;\n",
       "    }\n",
       "\n",
       "    .dataframe thead th {\n",
       "        text-align: right;\n",
       "    }\n",
       "</style>\n",
       "<table border=\"1\" class=\"dataframe\">\n",
       "  <thead>\n",
       "    <tr style=\"text-align: right;\">\n",
       "      <th></th>\n",
       "      <th>City</th>\n",
       "      <th>Lat</th>\n",
       "      <th>Lng</th>\n",
       "      <th>Max_Temp</th>\n",
       "      <th>Humidity</th>\n",
       "      <th>Cloudiness</th>\n",
       "      <th>Wind_Speed</th>\n",
       "      <th>Country</th>\n",
       "      <th>Date</th>\n",
       "    </tr>\n",
       "  </thead>\n",
       "  <tbody>\n",
       "  </tbody>\n",
       "</table>\n",
       "</div>"
      ],
      "text/plain": [
       "Empty DataFrame\n",
       "Columns: [City, Lat, Lng, Max_Temp, Humidity, Cloudiness, Wind_Speed, Country, Date]\n",
       "Index: []"
      ]
     },
     "execution_count": 8,
     "metadata": {},
     "output_type": "execute_result"
    }
   ],
   "source": [
    "#The max value of humidity is 100 for my dataframe. So this step has been skipped.\n",
    "city_data_df = city_data[city_data['Humidity'] > 100]\n",
    "city_data_df"
   ]
  },
  {
   "cell_type": "code",
   "execution_count": 17,
   "metadata": {},
   "outputs": [
    {
     "data": {
      "text/plain": [
       "Int64Index([], dtype='int64')"
      ]
     },
     "execution_count": 17,
     "metadata": {},
     "output_type": "execute_result"
    }
   ],
   "source": [
    "#  Get the indices of cities that have humidity over 100%.\n",
    "#See section above"
   ]
  },
  {
   "cell_type": "code",
   "execution_count": 9,
   "metadata": {},
   "outputs": [
    {
     "data": {
      "text/html": [
       "<div>\n",
       "<style scoped>\n",
       "    .dataframe tbody tr th:only-of-type {\n",
       "        vertical-align: middle;\n",
       "    }\n",
       "\n",
       "    .dataframe tbody tr th {\n",
       "        vertical-align: top;\n",
       "    }\n",
       "\n",
       "    .dataframe thead th {\n",
       "        text-align: right;\n",
       "    }\n",
       "</style>\n",
       "<table border=\"1\" class=\"dataframe\">\n",
       "  <thead>\n",
       "    <tr style=\"text-align: right;\">\n",
       "      <th></th>\n",
       "      <th>City</th>\n",
       "      <th>Lat</th>\n",
       "      <th>Lng</th>\n",
       "      <th>Max_Temp</th>\n",
       "      <th>Humidity</th>\n",
       "      <th>Cloudiness</th>\n",
       "      <th>Wind_Speed</th>\n",
       "      <th>Country</th>\n",
       "      <th>Date</th>\n",
       "    </tr>\n",
       "  </thead>\n",
       "  <tbody>\n",
       "    <tr>\n",
       "      <th>587</th>\n",
       "      <td>Ponta Delgada</td>\n",
       "      <td>37.7333</td>\n",
       "      <td>-25.6667</td>\n",
       "      <td>60.80</td>\n",
       "      <td>77</td>\n",
       "      <td>75</td>\n",
       "      <td>8.05</td>\n",
       "      <td>PT</td>\n",
       "      <td>1619469498</td>\n",
       "    </tr>\n",
       "    <tr>\n",
       "      <th>588</th>\n",
       "      <td>Omboué</td>\n",
       "      <td>-1.5746</td>\n",
       "      <td>9.2618</td>\n",
       "      <td>79.27</td>\n",
       "      <td>86</td>\n",
       "      <td>100</td>\n",
       "      <td>5.12</td>\n",
       "      <td>GA</td>\n",
       "      <td>1619469499</td>\n",
       "    </tr>\n",
       "    <tr>\n",
       "      <th>589</th>\n",
       "      <td>Ugoofaaru</td>\n",
       "      <td>5.6667</td>\n",
       "      <td>73.0000</td>\n",
       "      <td>82.96</td>\n",
       "      <td>74</td>\n",
       "      <td>5</td>\n",
       "      <td>5.12</td>\n",
       "      <td>MV</td>\n",
       "      <td>1619469499</td>\n",
       "    </tr>\n",
       "    <tr>\n",
       "      <th>590</th>\n",
       "      <td>North Platte</td>\n",
       "      <td>41.1239</td>\n",
       "      <td>-100.7654</td>\n",
       "      <td>86.00</td>\n",
       "      <td>19</td>\n",
       "      <td>1</td>\n",
       "      <td>9.22</td>\n",
       "      <td>US</td>\n",
       "      <td>1619469426</td>\n",
       "    </tr>\n",
       "    <tr>\n",
       "      <th>591</th>\n",
       "      <td>Belmonte</td>\n",
       "      <td>-15.8631</td>\n",
       "      <td>-38.8828</td>\n",
       "      <td>80.60</td>\n",
       "      <td>65</td>\n",
       "      <td>40</td>\n",
       "      <td>13.80</td>\n",
       "      <td>BR</td>\n",
       "      <td>1619469222</td>\n",
       "    </tr>\n",
       "  </tbody>\n",
       "</table>\n",
       "</div>"
      ],
      "text/plain": [
       "              City      Lat       Lng  Max_Temp  Humidity  Cloudiness  \\\n",
       "587  Ponta Delgada  37.7333  -25.6667     60.80        77          75   \n",
       "588         Omboué  -1.5746    9.2618     79.27        86         100   \n",
       "589      Ugoofaaru   5.6667   73.0000     82.96        74           5   \n",
       "590   North Platte  41.1239 -100.7654     86.00        19           1   \n",
       "591       Belmonte -15.8631  -38.8828     80.60        65          40   \n",
       "\n",
       "     Wind_Speed Country        Date  \n",
       "587        8.05      PT  1619469498  \n",
       "588        5.12      GA  1619469499  \n",
       "589        5.12      MV  1619469499  \n",
       "590        9.22      US  1619469426  \n",
       "591       13.80      BR  1619469222  "
      ]
     },
     "execution_count": 9,
     "metadata": {},
     "output_type": "execute_result"
    }
   ],
   "source": [
    "city_data2 = city_data\n",
    "\n",
    "quartiles = city_data2['Humidity'].quantile([.25,.5,.75])\n",
    "lowerq = quartiles[0.25]\n",
    "upperq = quartiles[0.75]\n",
    "iqr = upperq-lowerq\n",
    "lower_bound = lowerq - (1.5*iqr)\n",
    "upper_bound = upperq + (1.5*iqr)\n",
    "\n",
    "# Make a new DataFrame equal to the city data to drop all humidity outliers by index.\n",
    "outliers = city_data2.loc[(city_data2['Humidity'] < lower_bound) | (city_data2['Humidity'] > upper_bound)]\n",
    "clean_city_data = city_data2.loc[(city_data2['Humidity'] >= lower_bound) & (city_data2['Humidity'] <= upper_bound)]\n",
    "clean_city_data.tail()"
   ]
  },
  {
   "cell_type": "code",
   "execution_count": null,
   "metadata": {},
   "outputs": [],
   "source": [
    "\n"
   ]
  },
  {
   "cell_type": "markdown",
   "metadata": {},
   "source": [
    "## Plotting the Data\n",
    "* Use proper labeling of the plots using plot titles (including date of analysis) and axes labels.\n",
    "* Save the plotted figures as .pngs."
   ]
  },
  {
   "cell_type": "markdown",
   "metadata": {},
   "source": [
    "## Latitude vs. Temperature Plot"
   ]
  },
  {
   "cell_type": "code",
   "execution_count": 10,
   "metadata": {},
   "outputs": [
    {
     "data": {
      "image/png": "[encoded data removed]",
      "text/plain": [
       "<Figure size 432x288 with 1 Axes>"
      ]
     },
     "metadata": {
      "needs_background": "light"
     },
     "output_type": "display_data"
    }
   ],
   "source": [
    "timestamp =  time.localtime(1619402630)\n",
    "final_time = time.strftime(\"(%m/%d/%Y)\", timestamp)\n",
    "final_time\n",
    "\n",
    "plt.scatter(clean_city_data['Lat'], clean_city_data['Max_Temp'], marker=\"o\", edgecolors='Black')\n",
    "plt.xlabel('Latitude')\n",
    "plt.ylabel('Max Temperature (F)')\n",
    "plt.title(f'City Latitude vs Max Temperature {final_time}')\n",
    "plt.grid(True)\n",
    "\n",
    "plt.savefig(\"LatitudevsTemperature.png\")\n",
    "plt.show()"
   ]
  },
  {
   "cell_type": "code",
   "execution_count": null,
   "metadata": {},
   "outputs": [],
   "source": [
    "'''\n",
    "Observation: This scatter plot is analyzing the temperature around the world from -60 latitude to \n",
    "80 latitude and shows how temperature rises as the latitude gets closer to the equator (0 latitude)\n",
    "'''"
   ]
  },
  {
   "cell_type": "markdown",
   "metadata": {},
   "source": [
    "## Latitude vs. Humidity Plot"
   ]
  },
  {
   "cell_type": "code",
   "execution_count": 11,
   "metadata": {},
   "outputs": [
    {
     "data": {
      "image/png": "[encoded data removed]",
      "text/plain": [
       "<Figure size 432x288 with 1 Axes>"
      ]
     },
     "metadata": {
      "needs_background": "light"
     },
     "output_type": "display_data"
    }
   ],
   "source": [
    "plt.scatter(clean_city_data['Lat'], clean_city_data['Humidity'], marker=\"o\", edgecolors='Black')\n",
    "plt.xlabel('Latitude')\n",
    "plt.ylabel('Humidity')\n",
    "plt.title(f'City Latitude vs Humidity {final_time}')\n",
    "plt.grid(True)\n",
    "\n",
    "plt.savefig(\"LatitudevsHumidity.png\")\n",
    "plt.show()"
   ]
  },
  {
   "cell_type": "code",
   "execution_count": null,
   "metadata": {},
   "outputs": [],
   "source": [
    "'''\n",
    "Observation: The average level of humididty looks to be higher around the equator. There seems to be no coorelation between a point of latitude and humidity\n",
    "in other areas.\n",
    "'''"
   ]
  },
  {
   "cell_type": "markdown",
   "metadata": {},
   "source": [
    "## Latitude vs. Cloudiness Plot"
   ]
  },
  {
   "cell_type": "code",
   "execution_count": 14,
   "metadata": {},
   "outputs": [
    {
     "data": {
      "image/png": "[encoded data removed]",
      "text/plain": [
       "<Figure size 432x288 with 1 Axes>"
      ]
     },
     "metadata": {
      "needs_background": "light"
     },
     "output_type": "display_data"
    }
   ],
   "source": [
    "plt.scatter(clean_city_data['Lat'], clean_city_data['Cloudiness'], marker=\"o\", edgecolors='Black')\n",
    "plt.xlabel('Latitude')\n",
    "plt.ylabel('Cloudiness (%)')\n",
    "plt.title(f'City Latitude vs Cloudiness {final_time}')\n",
    "plt.grid(True)\n",
    "\n",
    "plt.savefig(\"LatitudevsCloudiness.png\")\n",
    "plt.show()"
   ]
  },
  {
   "cell_type": "code",
   "execution_count": null,
   "metadata": {},
   "outputs": [],
   "source": [
    "'''\n",
    "Observation: There seems to be little correlation between the point of latitude and cloudiness. \n",
    "On 4/24/21 though, there seemed to be more cloudy areas around the equator.\n",
    "'''"
   ]
  },
  {
   "cell_type": "markdown",
   "metadata": {},
   "source": [
    "## Latitude vs. Wind Speed Plot"
   ]
  },
  {
   "cell_type": "code",
   "execution_count": 15,
   "metadata": {},
   "outputs": [
    {
     "data": {
      "image/png": "[encoded data removed]",
      "text/plain": [
       "<Figure size 432x288 with 1 Axes>"
      ]
     },
     "metadata": {
      "needs_background": "light"
     },
     "output_type": "display_data"
    }
   ],
   "source": [
    "plt.scatter(clean_city_data['Lat'], clean_city_data['Wind_Speed'], marker=\"o\", edgecolors='Black')\n",
    "plt.xlabel('Latitude')\n",
    "plt.ylabel('Wind Speed (mph)')\n",
    "plt.title(f'City Latitude vs Wind Speed (mph) {final_time}')\n",
    "plt.grid(True)\n",
    "\n",
    "plt.savefig(\"LatitudevsWindSpeed.png\")\n",
    "plt.show()"
   ]
  },
  {
   "cell_type": "code",
   "execution_count": null,
   "metadata": {},
   "outputs": [],
   "source": [
    "'''\n",
    "Observation: From this plot, most areas from -60 latitude to 80 latitude have winds less than 10 mph.\n",
    "'''"
   ]
  },
  {
   "cell_type": "markdown",
   "metadata": {},
   "source": [
    "## Linear Regression"
   ]
  },
  {
   "cell_type": "code",
   "execution_count": 16,
   "metadata": {},
   "outputs": [],
   "source": [
    "#Northern Hemishpere \n",
    "\n",
    "northern_hem = clean_city_data[clean_city_data[\"Lat\"] >= 0]\n",
    "\n",
    "#Southern Hemisphere \n",
    "\n",
    "southern_hem = clean_city_data[clean_city_data[\"Lat\"] < 0]"
   ]
  },
  {
   "cell_type": "markdown",
   "metadata": {},
   "source": [
    "####  Northern Hemisphere - Max Temp vs. Latitude Linear Regression"
   ]
  },
  {
   "cell_type": "code",
   "execution_count": 17,
   "metadata": {},
   "outputs": [
    {
     "name": "stdout",
     "output_type": "stream",
     "text": [
      "The r-value is: 0.7598455861382919\n"
     ]
    },
    {
     "data": {
      "image/png": "[encoded data removed]",
      "text/plain": [
       "<Figure size 432x288 with 1 Axes>"
      ]
     },
     "metadata": {
      "needs_background": "light"
     },
     "output_type": "display_data"
    }
   ],
   "source": [
    "# Perform a linear regression on temperature vs. latitude\n",
    "(slope1, intercept1, rvalue1, pvalue1, stderr1) = stats.linregress(northern_hem[\"Lat\"], northern_hem['Max_Temp'])\n",
    "\n",
    "# Get regression values\n",
    "regress_values1 = northern_hem[\"Lat\"] * slope1 + intercept1\n",
    "\n",
    "# Create line equation string\n",
    "line_eq1 = \"y = \" + str(round(slope1,2)) + \"x +\" + str(round(intercept1,2))\n",
    "\n",
    "# Create Plot\n",
    "plt.scatter(northern_hem[\"Lat\"], northern_hem['Max_Temp'], marker=\"o\")\n",
    "plt.xlabel('Latitude')\n",
    "plt.ylabel('Max Temp')\n",
    "plt.title(f'Max Temp vs Latitude Linear Regression')\n",
    "plt.plot(northern_hem[\"Lat\"],regress_values1,\"r-\")\n",
    "plt.annotate(line_eq1,(-50,80),fontsize=15,color=\"red\")\n",
    "\n",
    "# Print r value\n",
    "print(f\"The r-value is: {rvalue1**2}\")\n",
    "\n",
    "# Show plot\n",
    "plt.show()"
   ]
  },
  {
   "cell_type": "code",
   "execution_count": null,
   "metadata": {},
   "outputs": [],
   "source": [
    "'''\n",
    "Observation: The r-value of .774 indicates that there is a fairly positive correlation between the\n",
    "latitude coordinates and equator. In other words, the further away the latitude point is from 0, the more\n",
    "likely the max temp will be a lower value.\n",
    "'''"
   ]
  },
  {
   "cell_type": "markdown",
   "metadata": {},
   "source": [
    "####  Southern Hemisphere - Max Temp vs. Latitude Linear Regression"
   ]
  },
  {
   "cell_type": "code",
   "execution_count": 18,
   "metadata": {},
   "outputs": [
    {
     "name": "stdout",
     "output_type": "stream",
     "text": [
      "The r-value is: 0.5686902099795071\n"
     ]
    },
    {
     "data": {
      "image/png": "[encoded data removed]",
      "text/plain": [
       "<Figure size 432x288 with 1 Axes>"
      ]
     },
     "metadata": {
      "needs_background": "light"
     },
     "output_type": "display_data"
    }
   ],
   "source": [
    "# Perform a linear regression on temperature vs. latitude\n",
    "(slope1, intercept1, rvalue1, pvalue1, stderr1) = stats.linregress(southern_hem[\"Lat\"], southern_hem['Max_Temp'])\n",
    "\n",
    "# Get regression values\n",
    "regress_values1 = southern_hem[\"Lat\"] * slope1 + intercept1\n",
    "\n",
    "# Create line equation string\n",
    "line_eq1 = \"y = \" + str(round(slope1,2)) + \"x +\" + str(round(intercept1,2))\n",
    "\n",
    "# Create Plot\n",
    "plt.scatter(southern_hem[\"Lat\"], southern_hem['Max_Temp'], marker=\"o\")\n",
    "plt.xlabel('Latitude')\n",
    "plt.ylabel('Max Temp')\n",
    "plt.title(f'Max Temp vs Latitude Linear Regression')\n",
    "plt.plot(southern_hem[\"Lat\"],regress_values1,\"r-\")\n",
    "plt.annotate(line_eq1,(-50,80),fontsize=15,color=\"red\")\n",
    "\n",
    "# Print r value\n",
    "print(f\"The r-value is: {rvalue1**2}\")\n",
    "\n",
    "# Show plot\n",
    "plt.show()"
   ]
  },
  {
   "cell_type": "code",
   "execution_count": null,
   "metadata": {},
   "outputs": [],
   "source": [
    "'''\n",
    "Observation: The r-value of .484 indicates that there is a lower positive correlation between the\n",
    "latitude coordinates and equator in the southern hemisphere than the northern hemisphere. In other \n",
    "words, as we keep going south from the equator max temp drops but not as consistently. \n",
    "'''"
   ]
  },
  {
   "cell_type": "markdown",
   "metadata": {},
   "source": [
    "####  Northern Hemisphere - Humidity (%) vs. Latitude Linear Regression"
   ]
  },
  {
   "cell_type": "code",
   "execution_count": 19,
   "metadata": {},
   "outputs": [
    {
     "name": "stdout",
     "output_type": "stream",
     "text": [
      "The r-value is: 0.05157940326609472\n"
     ]
    },
    {
     "data": {
      "image/png": "[encoded data removed]",
      "text/plain": [
       "<Figure size 432x288 with 1 Axes>"
      ]
     },
     "metadata": {
      "needs_background": "light"
     },
     "output_type": "display_data"
    }
   ],
   "source": [
    "# Perform a linear regression on temperature vs. latitude\n",
    "(slope2, intercept2, rvalue2, pvalue2, stderr2) = stats.linregress(northern_hem[\"Lat\"], northern_hem['Humidity'])\n",
    "\n",
    "# Get regression values\n",
    "regress_values2 = northern_hem[\"Lat\"] * slope2 + intercept2\n",
    "\n",
    "# Create line equation string\n",
    "line_eq2 = \"y = \" + str(round(slope2,2)) + \"x +\" + str(round(intercept2,2))\n",
    "\n",
    "# Create Plot\n",
    "plt.scatter(northern_hem[\"Lat\"], northern_hem['Humidity'], marker=\"o\")\n",
    "plt.xlabel('Latitude')\n",
    "plt.ylabel('Humidity')\n",
    "plt.title(f'Humidity vs Latitude Linear Regression')\n",
    "plt.plot(northern_hem[\"Lat\"],regress_values2,\"r-\")\n",
    "plt.annotate(line_eq2,(40,15),fontsize=15,color=\"red\")\n",
    "\n",
    "# Print r value\n",
    "print(f\"The r-value is: {rvalue2**2}\")\n",
    "\n",
    "# Show plot\n",
    "plt.show()"
   ]
  },
  {
   "cell_type": "code",
   "execution_count": null,
   "metadata": {},
   "outputs": [],
   "source": [
    "'''\n",
    "Observation: Based on the low r-value, there is basically no correlation between the point of \n",
    "latitute and humidity level. The scatter plot also shows points with no consistency or pattern.\n",
    "\n",
    "'''"
   ]
  },
  {
   "cell_type": "markdown",
   "metadata": {},
   "source": [
    "####  Southern Hemisphere - Humidity (%) vs. Latitude Linear Regression"
   ]
  },
  {
   "cell_type": "code",
   "execution_count": 20,
   "metadata": {},
   "outputs": [
    {
     "name": "stdout",
     "output_type": "stream",
     "text": [
      "The r-value is: 0.002434327087114659\n"
     ]
    },
    {
     "data": {
      "image/png": "[encoded data removed]",
      "text/plain": [
       "<Figure size 432x288 with 1 Axes>"
      ]
     },
     "metadata": {
      "needs_background": "light"
     },
     "output_type": "display_data"
    }
   ],
   "source": [
    "# Perform a linear regression on temperature vs. latitude\n",
    "(slope1, intercept1, rvalue1, pvalue1, stderr1) = stats.linregress(southern_hem[\"Lat\"], southern_hem['Humidity'])\n",
    "\n",
    "# Get regression values\n",
    "regress_values1 = southern_hem[\"Lat\"] * slope1 + intercept1\n",
    "\n",
    "# Create line equation string\n",
    "line_eq1 = \"y = \" + str(round(slope1,2)) + \"x +\" + str(round(intercept1,2))\n",
    "\n",
    "# Create Plot\n",
    "plt.scatter(southern_hem[\"Lat\"], southern_hem['Humidity'], marker=\"o\")\n",
    "plt.xlabel('Latitude')\n",
    "plt.ylabel('Humidity')\n",
    "plt.title(f'Humidity vs Latitude Linear Regression')\n",
    "plt.plot(southern_hem[\"Lat\"],regress_values1,\"r-\")\n",
    "plt.annotate(line_eq1,(-55,20),fontsize=15,color=\"red\")\n",
    "\n",
    "# Print r value\n",
    "print(f\"The r-value is: {rvalue1**2}\")\n",
    "\n",
    "# Show plot\n",
    "plt.show()"
   ]
  },
  {
   "cell_type": "code",
   "execution_count": null,
   "metadata": {},
   "outputs": [],
   "source": [
    "'''\n",
    "Observation: Based on the low r-value, there is basically no correlation between the point of \n",
    "latitute and humidity level in the southern hemsiphere. Though, the scatter plot shows alot of points \n",
    "with a high level of humidity between 0 and -20 degrees latitude. \n",
    "'''"
   ]
  },
  {
   "cell_type": "markdown",
   "metadata": {},
   "source": [
    "####  Northern Hemisphere - Cloudiness (%) vs. Latitude Linear Regression"
   ]
  },
  {
   "cell_type": "code",
   "execution_count": 21,
   "metadata": {},
   "outputs": [
    {
     "name": "stdout",
     "output_type": "stream",
     "text": [
      "The r-value is: 0.01756653194202431\n"
     ]
    },
    {
     "data": {
      "image/png": "[encoded data removed]",
      "text/plain": [
       "<Figure size 432x288 with 1 Axes>"
      ]
     },
     "metadata": {
      "needs_background": "light"
     },
     "output_type": "display_data"
    }
   ],
   "source": [
    "# Perform a linear regression on temperature vs. latitude\n",
    "(slope2, intercept2, rvalue2, pvalue2, stderr2) = stats.linregress(northern_hem[\"Lat\"], northern_hem['Cloudiness'])\n",
    "\n",
    "# Get regression values\n",
    "regress_values2 = northern_hem[\"Lat\"] * slope2 + intercept2\n",
    "\n",
    "# Create line equation string\n",
    "line_eq2 = \"y = \" + str(round(slope2,2)) + \"x +\" + str(round(intercept2,2))\n",
    "\n",
    "# Create Plot\n",
    "plt.scatter(northern_hem[\"Lat\"], northern_hem['Cloudiness'], marker=\"o\")\n",
    "plt.xlabel('Latitude')\n",
    "plt.ylabel('Cloudiness')\n",
    "plt.title(f'Cloudiness vs Latitude Linear Regression')\n",
    "plt.plot(northern_hem[\"Lat\"],regress_values2,\"r-\")\n",
    "plt.annotate(line_eq2,(40,15),fontsize=15,color=\"red\")\n",
    "\n",
    "# Print r value\n",
    "print(f\"The r-value is: {rvalue2**2}\")\n",
    "\n",
    "# Show plot\n",
    "plt.show()"
   ]
  },
  {
   "cell_type": "code",
   "execution_count": null,
   "metadata": {},
   "outputs": [],
   "source": [
    "'''\n",
    "Observation: The r-value shows very little coorelation between latitude \n",
    "and cloudiness in the northern hemisphere. The scatter plot shows the same with no consistency.\n",
    "'''"
   ]
  },
  {
   "cell_type": "markdown",
   "metadata": {},
   "source": [
    "####  Southern Hemisphere - Cloudiness (%) vs. Latitude Linear Regression"
   ]
  },
  {
   "cell_type": "code",
   "execution_count": 22,
   "metadata": {},
   "outputs": [
    {
     "name": "stdout",
     "output_type": "stream",
     "text": [
      "The r-value is: 0.041263710415336136\n"
     ]
    },
    {
     "data": {
      "image/png": "[encoded data removed]",
      "text/plain": [
       "<Figure size 432x288 with 1 Axes>"
      ]
     },
     "metadata": {
      "needs_background": "light"
     },
     "output_type": "display_data"
    }
   ],
   "source": [
    "# Perform a linear regression on temperature vs. latitude\n",
    "(slope1, intercept1, rvalue1, pvalue1, stderr1) = stats.linregress(southern_hem[\"Lat\"], southern_hem['Cloudiness'])\n",
    "\n",
    "# Get regression values\n",
    "regress_values1 = southern_hem[\"Lat\"] * slope1 + intercept1\n",
    "\n",
    "# Create line equation string\n",
    "line_eq1 = \"y = \" + str(round(slope1,2)) + \"x +\" + str(round(intercept1,2))\n",
    "\n",
    "# Create Plot\n",
    "plt.scatter(southern_hem[\"Lat\"], southern_hem['Cloudiness'], marker=\"o\")\n",
    "plt.xlabel('Latitude')\n",
    "plt.ylabel('Cloudiness')\n",
    "plt.title(f'Cloudiness vs Latitude Linear Regression')\n",
    "plt.plot(southern_hem[\"Lat\"],regress_values1,\"r-\")\n",
    "plt.annotate(line_eq1,(-55,20),fontsize=15,color=\"red\")\n",
    "\n",
    "# Print r value\n",
    "print(f\"The r-value is: {rvalue1**2}\")\n",
    "\n",
    "# Show plot\n",
    "plt.show()"
   ]
  },
  {
   "cell_type": "code",
   "execution_count": null,
   "metadata": {},
   "outputs": [],
   "source": [
    "'''\n",
    "Observation: The r-value shows very little coorelation between latitude \n",
    "and cloudiness in the northern hemisphere. The scatter plot shows the same with no consistency. \n",
    "The correlation between the latitude and cloudiness are about the same in both hemispheres. \n",
    "'''"
   ]
  },
  {
   "cell_type": "markdown",
   "metadata": {},
   "source": [
    "####  Northern Hemisphere - Wind Speed (mph) vs. Latitude Linear Regression"
   ]
  },
  {
   "cell_type": "code",
   "execution_count": 26,
   "metadata": {},
   "outputs": [
    {
     "name": "stdout",
     "output_type": "stream",
     "text": [
      "The r-value is: 0.0040193619490933525\n"
     ]
    },
    {
     "data": {
      "image/png": "[encoded data removed]",
      "text/plain": [
       "<Figure size 432x288 with 1 Axes>"
      ]
     },
     "metadata": {
      "needs_background": "light"
     },
     "output_type": "display_data"
    }
   ],
   "source": [
    "# Perform a linear regression on temperature vs. latitude\n",
    "(slope2, intercept2, rvalue2, pvalue2, stderr2) = stats.linregress(northern_hem[\"Lat\"], northern_hem['Wind_Speed'])\n",
    "\n",
    "# Get regression values\n",
    "regress_values2 = northern_hem[\"Lat\"] * slope2 + intercept2\n",
    "\n",
    "# Create line equation string\n",
    "line_eq2 = \"y = \" + str(round(slope2,2)) + \"x +\" + str(round(intercept2,2))\n",
    "\n",
    "# Create Plot\n",
    "plt.scatter(northern_hem[\"Lat\"], northern_hem['Wind_Speed'], marker=\"o\")\n",
    "plt.xlabel('Latitude')\n",
    "plt.ylabel('Wind_Speed')\n",
    "plt.title(f'Wind_Speed vs Latitude Linear Regression')\n",
    "plt.plot(northern_hem[\"Lat\"],regress_values2,\"r-\")\n",
    "plt.annotate(line_eq2,(40,25),fontsize=15,color=\"red\")\n",
    "\n",
    "# Print r value\n",
    "print(f\"The r-value is: {rvalue2**2}\")\n",
    "\n",
    "# Show plot\n",
    "plt.show()"
   ]
  },
  {
   "cell_type": "markdown",
   "metadata": {},
   "source": [
    "####  Southern Hemisphere - Wind Speed (mph) vs. Latitude Linear Regression"
   ]
  },
  {
   "cell_type": "code",
   "execution_count": 25,
   "metadata": {},
   "outputs": [
    {
     "name": "stdout",
     "output_type": "stream",
     "text": [
      "The r-value is: 0.021497717616184932\n"
     ]
    },
    {
     "data": {
      "image/png": "[encoded data removed]",
      "text/plain": [
       "<Figure size 432x288 with 1 Axes>"
      ]
     },
     "metadata": {
      "needs_background": "light"
     },
     "output_type": "display_data"
    }
   ],
   "source": [
    "# Perform a linear regression on temperature vs. latitude\n",
    "(slope7, intercept7, rvalue7, pvalue7, stderr7) = stats.linregress(southern_hem[\"Lat\"], southern_hem['Wind_Speed'])\n",
    "\n",
    "# Get regression values\n",
    "regress_values7 = southern_hem[\"Lat\"] * slope7 + intercept7\n",
    "\n",
    "# Create line equation string\n",
    "line_eq7 = \"y = \" + str(round(slope7,2)) + \"x +\" + str(round(intercept7,2))\n",
    "\n",
    "# Create Plot\n",
    "plt.scatter(southern_hem[\"Lat\"], southern_hem['Wind_Speed'], marker=\"o\")\n",
    "plt.xlabel('Latitude')\n",
    "plt.ylabel('Wind_Speed')\n",
    "plt.title(f'Wind_Speed vs Latitude Linear Regression')\n",
    "plt.plot(southern_hem[\"Lat\"],regress_values7,\"r-\")\n",
    "plt.annotate(line_eq7,(-40,15),fontsize=15,color=\"red\")\n",
    "\n",
    "# Print r value\n",
    "print(f\"The r-value is: {rvalue7**2}\")\n",
    "\n",
    "# Show plot\n",
    "plt.show()"
   ]
  },
  {
   "cell_type": "code",
   "execution_count": 27,
   "metadata": {},
   "outputs": [
    {
     "data": {
      "text/plain": [
       "'\\nFor Part I, you must include a written description of three observable trends based on the data:\\n\\nObservation 1: Temperature seems to be the only one with any real coorelation to point of latitude. \\n\\nObservation 2: There was no negative correlation for any plots and tests taken\\n\\nObservation 3: There is a slight difference between the Northern and Southern Hemishpere for some of these tests.\\nOn the day the API was called, besides cloudiness, there was more coorelation between the test-subject and latitude.\\n\\n'"
      ]
     },
     "execution_count": 27,
     "metadata": {},
     "output_type": "execute_result"
    }
   ],
   "source": [
    "'''\n",
    "For Part I, you must include a written description of three observable trends based on the data:\n",
    "\n",
    "Observation 1: Temperature seems to be the only one with any real coorelation to point of latitude. \n",
    "\n",
    "Observation 2: There was no negative correlation for any plots and tests taken\n",
    "\n",
    "Observation 3: There is a slight difference between the Northern and Southern Hemishpere for some of these tests.\n",
    "On the day the API was called, besides cloudiness, there was more coorelation between the test-subject and latitude.\n",
    "\n",
    "'''"
   ]
  },
  {
   "cell_type": "code",
   "execution_count": null,
   "metadata": {},
   "outputs": [],
   "source": []
  }
 ],
 "metadata": {
  "anaconda-cloud": {},
  "kernel_info": {
   "name": "python3"
  },
  "kernelspec": {
   "display_name": "Python 3",
   "language": "python",
   "name": "python3"
  },
  "language_info": {
   "codemirror_mode": {
    "name": "ipython",
    "version": 3
   },
   "file_extension": ".py",
   "mimetype": "text/x-python",
   "name": "python",
   "nbconvert_exporter": "python",
   "pygments_lexer": "ipython3",
   "version": "3.8.5"
  },
  "latex_envs": {
   "LaTeX_envs_menu_present": true,
   "autoclose": false,
   "autocomplete": true,
   "bibliofile": "biblio.bib",
   "cite_by": "apalike",
   "current_citInitial": 1,
   "eqLabelWithNumbers": true,
   "eqNumInitial": 1,
   "hotkeys": {
    "equation": "Ctrl-E",
    "itemize": "Ctrl-I"
   },
   "labels_anchors": false,
   "latex_user_defs": false,
   "report_style_numbering": false,
   "user_envs_cfg": false
  },
  "nteract": {
   "version": "0.12.3"
  }
 },
 "nbformat": 4,
 "nbformat_minor": 2
}
